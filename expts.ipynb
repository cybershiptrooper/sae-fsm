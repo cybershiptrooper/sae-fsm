{
 "cells": [
  {
   "cell_type": "code",
   "execution_count": 1,
   "metadata": {},
   "outputs": [
    {
     "data": {
      "text/plain": [
       "<torch.autograd.grad_mode.set_grad_enabled at 0x1127fb340>"
      ]
     },
     "execution_count": 1,
     "metadata": {},
     "output_type": "execute_result"
    }
   ],
   "source": [
    "import torch\n",
    "from sae_lens import SAE\n",
    "import transformer_lens as tl\n",
    "import yaml\n",
    "import sae_lens\n",
    "from typing import List\n",
    "\n",
    "torch.set_grad_enabled(False)"
   ]
  },
  {
   "cell_type": "code",
   "execution_count": 2,
   "metadata": {},
   "outputs": [
    {
     "name": "stdout",
     "output_type": "stream",
     "text": [
      "Loaded pretrained model gpt2-small into HookedTransformer\n"
     ]
    }
   ],
   "source": [
    "model = tl.HookedTransformer.from_pretrained(\"gpt2-small\")"
   ]
  },
  {
   "cell_type": "code",
   "execution_count": 3,
   "metadata": {},
   "outputs": [],
   "source": [
    "device = model.cfg.device"
   ]
  },
  {
   "cell_type": "code",
   "execution_count": 4,
   "metadata": {},
   "outputs": [
    {
     "data": {
      "text/plain": [
       "'<html>\\n<head>\\n    <title>My Website</title>\\n</head>\\n<body>\\n    <h>Welcome to My Website</h1>\\n    <p>This is a paragraph.</p>\\n    <div class=\"content\">\\n        <h2>Here is a heading</h2>\\n        <p>This is another paragraph.</p>\\n    </div>\\n</html>\\n'"
      ]
     },
     "execution_count": 4,
     "metadata": {},
     "output_type": "execute_result"
    }
   ],
   "source": [
    "html_prompt = \"\"\"<html>\n",
    "<head>\n",
    "    <title>My Website</title>\n",
    "</head>\n",
    "<body>\n",
    "    <h>Welcome to My Website</h1>\n",
    "    <p>This is a paragraph.</p>\n",
    "    <div class=\"content\">\n",
    "        <h2>Here is a heading</h2>\n",
    "        <p>This is another paragraph.</p>\n",
    "    </div>\n",
    "</html>\n",
    "\"\"\"\n",
    "html_prompt"
   ]
  },
  {
   "cell_type": "code",
   "execution_count": 26,
   "metadata": {},
   "outputs": [
    {
     "data": {
      "text/plain": [
       "['<|endoftext|>',\n",
       " '<',\n",
       " 'html',\n",
       " '>',\n",
       " '\\n',\n",
       " '<',\n",
       " 'head',\n",
       " '>',\n",
       " '\\n',\n",
       " ' ',\n",
       " ' ',\n",
       " ' ',\n",
       " ' <',\n",
       " 'title',\n",
       " '>',\n",
       " 'My',\n",
       " ' Website',\n",
       " '</',\n",
       " 'title',\n",
       " '>',\n",
       " '\\n',\n",
       " '</',\n",
       " 'head',\n",
       " '>',\n",
       " '\\n',\n",
       " '<',\n",
       " 'body',\n",
       " '>',\n",
       " '\\n',\n",
       " ' ',\n",
       " ' ',\n",
       " ' ',\n",
       " ' <',\n",
       " 'h',\n",
       " '>',\n",
       " 'Welcome',\n",
       " ' to',\n",
       " ' My',\n",
       " ' Website',\n",
       " '</',\n",
       " 'h',\n",
       " '1',\n",
       " '>',\n",
       " '\\n',\n",
       " ' ',\n",
       " ' ',\n",
       " ' ',\n",
       " ' <',\n",
       " 'p',\n",
       " '>',\n",
       " 'This',\n",
       " ' is',\n",
       " ' a',\n",
       " ' paragraph',\n",
       " '.</',\n",
       " 'p',\n",
       " '>',\n",
       " '\\n',\n",
       " ' ',\n",
       " ' ',\n",
       " ' ',\n",
       " ' <',\n",
       " 'div',\n",
       " ' class',\n",
       " '=\"',\n",
       " 'content',\n",
       " '\">',\n",
       " '\\n',\n",
       " ' ',\n",
       " ' ',\n",
       " ' ',\n",
       " ' ',\n",
       " ' ',\n",
       " ' ',\n",
       " ' ',\n",
       " ' <',\n",
       " 'h',\n",
       " '2',\n",
       " '>',\n",
       " 'Here',\n",
       " ' is',\n",
       " ' a',\n",
       " ' heading',\n",
       " '</',\n",
       " 'h',\n",
       " '2',\n",
       " '>',\n",
       " '\\n',\n",
       " ' ',\n",
       " ' ',\n",
       " ' ',\n",
       " ' ',\n",
       " ' ',\n",
       " ' ',\n",
       " ' ',\n",
       " ' <',\n",
       " 'p',\n",
       " '>',\n",
       " 'This',\n",
       " ' is',\n",
       " ' another',\n",
       " ' paragraph',\n",
       " '.</',\n",
       " 'p',\n",
       " '>',\n",
       " '\\n',\n",
       " ' ',\n",
       " ' ',\n",
       " ' ',\n",
       " ' </',\n",
       " 'div',\n",
       " '>',\n",
       " '\\n',\n",
       " '</',\n",
       " 'html',\n",
       " '>',\n",
       " '\\n']"
      ]
     },
     "execution_count": 26,
     "metadata": {},
     "output_type": "execute_result"
    }
   ],
   "source": [
    "html_tokens = model.tokenizer(html_prompt, return_tensors=\"pt\", add_special_tokens=True).input_ids.to(device)\n",
    "bos_token_id = model.tokenizer.bos_token_id\n",
    "if bos_token_id is not None:\n",
    "    html_tokens = torch.cat([torch.tensor([[bos_token_id]]).to(device), html_tokens], dim=1)\n",
    "model.to_str_tokens(html_tokens[0])"
   ]
  },
  {
   "cell_type": "code",
   "execution_count": 29,
   "metadata": {},
   "outputs": [
    {
     "data": {
      "text/plain": [
       "[1, 5, 12, 17, 21, 25, 32, 39, 47, 54, 61, 75, 83, 95, 102, 109, 113]"
      ]
     },
     "execution_count": 29,
     "metadata": {},
     "output_type": "execute_result"
    }
   ],
   "source": [
    "str_tokens = model.to_str_tokens(html_tokens[0])\n",
    "tokens_we_care_about = [i for i in range(len(str_tokens)) if '<' in str_tokens[i] and \"<|endoftext|>\" != str_tokens[i]]\n",
    "tokens_we_care_about"
   ]
  },
  {
   "cell_type": "code",
   "execution_count": 30,
   "metadata": {},
   "outputs": [],
   "source": [
    "def get_cache_fwd_and_bwd(model, tokens, metric, layers):\n",
    "    model.reset_hooks()\n",
    "    cache = {}\n",
    "\n",
    "    def forward_cache_hook(act, hook):\n",
    "        cache[hook.name] = act.detach()\n",
    "\n",
    "    for layer in layers:\n",
    "        model.add_hook(f\"blocks.{layer}.hook_resid_post\", forward_cache_hook, \"fwd\")\n",
    "\n",
    "    grad_cache = {}\n",
    "\n",
    "    def backward_cache_hook(act, hook):\n",
    "        grad_cache[hook.name] = act.detach()\n",
    "\n",
    "    for layer in layers:\n",
    "        model.add_hook(f\"blocks.{layer}.hook_resid_post\", backward_cache_hook, \"bwd\")\n",
    "    torch.set_grad_enabled(True)\n",
    "    logits = model(tokens.clone())\n",
    "    value = metric(logits)\n",
    "    value.backward()\n",
    "    torch.set_grad_enabled(False)\n",
    "    model.reset_hooks()\n",
    "    return (\n",
    "        value.item(),\n",
    "        tl.ActivationCache(cache, model),\n",
    "        tl.ActivationCache(grad_cache, model),\n",
    "    )"
   ]
  },
  {
   "cell_type": "code",
   "execution_count": 31,
   "metadata": {},
   "outputs": [],
   "source": [
    "def metric(logits: torch.Tensor, idxs_we_care_about: List[int] = tokens_we_care_about, labels: torch.Tensor = html_tokens[:, 1:]):\n",
    "    \"\"\"Next token prediction\"\"\"\n",
    "    logits_to_use = logits[:, idxs_we_care_about]\n",
    "    labels_to_use = labels[:, idxs_we_care_about]\n",
    "    log_probs = torch.log_softmax(logits_to_use, dim=-1)\n",
    "    log_probs_at_labels = log_probs.gather(dim=-1, index=labels_to_use[..., None])\n",
    "    return log_probs_at_labels.mean()"
   ]
  },
  {
   "cell_type": "code",
   "execution_count": 32,
   "metadata": {},
   "outputs": [
    {
     "data": {
      "text/plain": [
       "-1.0637294054031372"
      ]
     },
     "execution_count": 32,
     "metadata": {},
     "output_type": "execute_result"
    }
   ],
   "source": [
    "loss, fwd_cache, bwd_cache = get_cache_fwd_and_bwd(\n",
    "    model, html_tokens, metric, list(range(model.cfg.n_layers))\n",
    ")\n",
    "loss"
   ]
  },
  {
   "cell_type": "code",
   "execution_count": 33,
   "metadata": {},
   "outputs": [
    {
     "data": {
      "text/plain": [
       "[1, 5, 12, 17, 21, 25, 32, 39, 47, 54, 61, 75, 83, 95, 102, 109, 113]"
      ]
     },
     "execution_count": 33,
     "metadata": {},
     "output_type": "execute_result"
    }
   ],
   "source": [
    "tokens_we_care_about"
   ]
  },
  {
   "cell_type": "code",
   "execution_count": 34,
   "metadata": {},
   "outputs": [],
   "source": [
    "import neel_utils as nutils\n",
    "\n",
    "logits = model(html_tokens)"
   ]
  },
  {
   "cell_type": "code",
   "execution_count": 35,
   "metadata": {},
   "outputs": [
    {
     "data": {
      "text/html": [
       "<style type=\"text/css\">\n",
       "#T_8d418_row0_col1, #T_8d418_row0_col2, #T_8d418_row0_col3 {\n",
       "  background-color: #b40426;\n",
       "  color: #f1f1f1;\n",
       "}\n",
       "#T_8d418_row1_col1, #T_8d418_row1_col2 {\n",
       "  background-color: #e26952;\n",
       "  color: #f1f1f1;\n",
       "}\n",
       "#T_8d418_row1_col3 {\n",
       "  background-color: #f6a283;\n",
       "  color: #000000;\n",
       "}\n",
       "#T_8d418_row2_col1, #T_8d418_row2_col2 {\n",
       "  background-color: #e67259;\n",
       "  color: #f1f1f1;\n",
       "}\n",
       "#T_8d418_row2_col3 {\n",
       "  background-color: #f7af91;\n",
       "  color: #000000;\n",
       "}\n",
       "#T_8d418_row3_col1, #T_8d418_row3_col2 {\n",
       "  background-color: #f39475;\n",
       "  color: #000000;\n",
       "}\n",
       "#T_8d418_row3_col3 {\n",
       "  background-color: #efcfbf;\n",
       "  color: #000000;\n",
       "}\n",
       "#T_8d418_row4_col1, #T_8d418_row4_col2 {\n",
       "  background-color: #f1ccb8;\n",
       "  color: #000000;\n",
       "}\n",
       "#T_8d418_row4_col3 {\n",
       "  background-color: #b9d0f9;\n",
       "  color: #000000;\n",
       "}\n",
       "#T_8d418_row5_col1, #T_8d418_row5_col2 {\n",
       "  background-color: #f0cdbb;\n",
       "  color: #000000;\n",
       "}\n",
       "#T_8d418_row5_col3 {\n",
       "  background-color: #b5cdfa;\n",
       "  color: #000000;\n",
       "}\n",
       "#T_8d418_row6_col1, #T_8d418_row6_col2 {\n",
       "  background-color: #d6dce4;\n",
       "  color: #000000;\n",
       "}\n",
       "#T_8d418_row6_col3 {\n",
       "  background-color: #90b2fe;\n",
       "  color: #000000;\n",
       "}\n",
       "#T_8d418_row7_col1, #T_8d418_row7_col2 {\n",
       "  background-color: #cfdaea;\n",
       "  color: #000000;\n",
       "}\n",
       "#T_8d418_row7_col3 {\n",
       "  background-color: #8badfd;\n",
       "  color: #000000;\n",
       "}\n",
       "#T_8d418_row8_col1, #T_8d418_row8_col2 {\n",
       "  background-color: #bcd2f7;\n",
       "  color: #000000;\n",
       "}\n",
       "#T_8d418_row8_col3 {\n",
       "  background-color: #7a9df8;\n",
       "  color: #f1f1f1;\n",
       "}\n",
       "#T_8d418_row9_col1, #T_8d418_row9_col2 {\n",
       "  background-color: #b2ccfb;\n",
       "  color: #000000;\n",
       "}\n",
       "#T_8d418_row9_col3 {\n",
       "  background-color: #7295f4;\n",
       "  color: #f1f1f1;\n",
       "}\n",
       "#T_8d418_row10_col1, #T_8d418_row10_col2 {\n",
       "  background-color: #a9c6fd;\n",
       "  color: #000000;\n",
       "}\n",
       "#T_8d418_row10_col3 {\n",
       "  background-color: #6c8ff1;\n",
       "  color: #f1f1f1;\n",
       "}\n",
       "#T_8d418_row11_col1, #T_8d418_row11_col2 {\n",
       "  background-color: #92b4fe;\n",
       "  color: #000000;\n",
       "}\n",
       "#T_8d418_row11_col3 {\n",
       "  background-color: #5e7de7;\n",
       "  color: #f1f1f1;\n",
       "}\n",
       "#T_8d418_row12_col1, #T_8d418_row12_col2 {\n",
       "  background-color: #4257c9;\n",
       "  color: #f1f1f1;\n",
       "}\n",
       "#T_8d418_row12_col3 {\n",
       "  background-color: #3d50c3;\n",
       "  color: #f1f1f1;\n",
       "}\n",
       "#T_8d418_row13_col1, #T_8d418_row13_col2 {\n",
       "  background-color: #3f53c6;\n",
       "  color: #f1f1f1;\n",
       "}\n",
       "#T_8d418_row13_col3 {\n",
       "  background-color: #3c4ec2;\n",
       "  color: #f1f1f1;\n",
       "}\n",
       "#T_8d418_row14_col1, #T_8d418_row14_col2, #T_8d418_row14_col3 {\n",
       "  background-color: #3b4cc0;\n",
       "  color: #f1f1f1;\n",
       "}\n",
       "</style>\n",
       "<table id=\"T_8d418\">\n",
       "  <thead>\n",
       "    <tr>\n",
       "      <th class=\"blank level0\" >&nbsp;</th>\n",
       "      <th id=\"T_8d418_level0_col0\" class=\"col_heading level0 col0\" >token</th>\n",
       "      <th id=\"T_8d418_level0_col1\" class=\"col_heading level0 col1\" >logit</th>\n",
       "      <th id=\"T_8d418_level0_col2\" class=\"col_heading level0 col2\" >log_prob</th>\n",
       "      <th id=\"T_8d418_level0_col3\" class=\"col_heading level0 col3\" >prob</th>\n",
       "    </tr>\n",
       "  </thead>\n",
       "  <tbody>\n",
       "    <tr>\n",
       "      <th id=\"T_8d418_level0_row0\" class=\"row_heading level0 row0\" >79</th>\n",
       "      <td id=\"T_8d418_row0_col0\" class=\"data row0 col0\" >p</td>\n",
       "      <td id=\"T_8d418_row0_col1\" class=\"data row0 col1\" >12.082162</td>\n",
       "      <td id=\"T_8d418_row0_col2\" class=\"data row0 col2\" >-2.573916</td>\n",
       "      <td id=\"T_8d418_row0_col3\" class=\"data row0 col3\" >0.076236</td>\n",
       "    </tr>\n",
       "    <tr>\n",
       "      <th id=\"T_8d418_level0_row1\" class=\"row_heading level0 row1\" >7146</th>\n",
       "      <td id=\"T_8d418_row1_col0\" class=\"data row1 col0\" >div</td>\n",
       "      <td id=\"T_8d418_row1_col1\" class=\"data row1 col1\" >11.820868</td>\n",
       "      <td id=\"T_8d418_row1_col2\" class=\"data row1 col2\" >-2.835210</td>\n",
       "      <td id=\"T_8d418_row1_col3\" class=\"data row1 col3\" >0.058706</td>\n",
       "    </tr>\n",
       "    <tr>\n",
       "      <th id=\"T_8d418_level0_row2\" class=\"row_heading level0 row2\" >9600</th>\n",
       "      <td id=\"T_8d418_row2_col0\" class=\"data row2 col0\" >img</td>\n",
       "      <td id=\"T_8d418_row2_col1\" class=\"data row2 col1\" >11.782150</td>\n",
       "      <td id=\"T_8d418_row2_col2\" class=\"data row2 col2\" >-2.873928</td>\n",
       "      <td id=\"T_8d418_row2_col3\" class=\"data row2 col3\" >0.056477</td>\n",
       "    </tr>\n",
       "    <tr>\n",
       "      <th id=\"T_8d418_level0_row3\" class=\"row_heading level0 row3\" >28112</th>\n",
       "      <td id=\"T_8d418_row3_col0\" class=\"data row3 col0\" >!--</td>\n",
       "      <td id=\"T_8d418_row3_col1\" class=\"data row3 col1\" >11.644079</td>\n",
       "      <td id=\"T_8d418_row3_col2\" class=\"data row3 col2\" >-3.011999</td>\n",
       "      <td id=\"T_8d418_row3_col3\" class=\"data row3 col3\" >0.049193</td>\n",
       "    </tr>\n",
       "    <tr>\n",
       "      <th id=\"T_8d418_level0_row4\" class=\"row_heading level0 row4\" >1671</th>\n",
       "      <td id=\"T_8d418_row4_col0\" class=\"data row4 col0\" >br</td>\n",
       "      <td id=\"T_8d418_row4_col1\" class=\"data row4 col1\" >11.336342</td>\n",
       "      <td id=\"T_8d418_row4_col2\" class=\"data row4 col2\" >-3.319736</td>\n",
       "      <td id=\"T_8d418_row4_col3\" class=\"data row4 col3\" >0.036162</td>\n",
       "    </tr>\n",
       "    <tr>\n",
       "      <th id=\"T_8d418_level0_row5\" class=\"row_heading level0 row5\" >64</th>\n",
       "      <td id=\"T_8d418_row5_col0\" class=\"data row5 col0\" >a</td>\n",
       "      <td id=\"T_8d418_row5_col1\" class=\"data row5 col1\" >11.318685</td>\n",
       "      <td id=\"T_8d418_row5_col2\" class=\"data row5 col2\" >-3.337394</td>\n",
       "      <td id=\"T_8d418_row5_col3\" class=\"data row5 col3\" >0.035529</td>\n",
       "    </tr>\n",
       "    <tr>\n",
       "      <th id=\"T_8d418_level0_row6\" class=\"row_heading level0 row6\" >12626</th>\n",
       "      <td id=\"T_8d418_row6_col0\" class=\"data row6 col0\" >span</td>\n",
       "      <td id=\"T_8d418_row6_col1\" class=\"data row6 col1\" >11.107184</td>\n",
       "      <td id=\"T_8d418_row6_col2\" class=\"data row6 col2\" >-3.548894</td>\n",
       "      <td id=\"T_8d418_row6_col3\" class=\"data row6 col3\" >0.028756</td>\n",
       "    </tr>\n",
       "    <tr>\n",
       "      <th id=\"T_8d418_level0_row7\" class=\"row_heading level0 row7\" >20635</th>\n",
       "      <td id=\"T_8d418_row7_col0\" class=\"data row7 col0\" >·Earlier</td>\n",
       "      <td id=\"T_8d418_row7_col1\" class=\"data row7 col1\" >11.064755</td>\n",
       "      <td id=\"T_8d418_row7_col2\" class=\"data row7 col2\" >-3.591323</td>\n",
       "      <td id=\"T_8d418_row7_col3\" class=\"data row7 col3\" >0.027562</td>\n",
       "    </tr>\n",
       "    <tr>\n",
       "      <th id=\"T_8d418_level0_row8\" class=\"row_heading level0 row8\" >11576</th>\n",
       "      <td id=\"T_8d418_row8_col0\" class=\"data row8 col0\" >strong</td>\n",
       "      <td id=\"T_8d418_row8_col1\" class=\"data row8 col1\" >10.947535</td>\n",
       "      <td id=\"T_8d418_row8_col2\" class=\"data row8 col2\" >-3.708544</td>\n",
       "      <td id=\"T_8d418_row8_col3\" class=\"data row8 col3\" >0.024513</td>\n",
       "    </tr>\n",
       "    <tr>\n",
       "      <th id=\"T_8d418_level0_row9\" class=\"row_heading level0 row9\" >6494</th>\n",
       "      <td id=\"T_8d418_row9_col0\" class=\"data row9 col0\" >html</td>\n",
       "      <td id=\"T_8d418_row9_col1\" class=\"data row9 col1\" >10.894014</td>\n",
       "      <td id=\"T_8d418_row9_col2\" class=\"data row9 col2\" >-3.762064</td>\n",
       "      <td id=\"T_8d418_row9_col3\" class=\"data row9 col3\" >0.023236</td>\n",
       "    </tr>\n",
       "    <tr>\n",
       "      <th id=\"T_8d418_level0_row10\" class=\"row_heading level0 row10\" >28961</th>\n",
       "      <td id=\"T_8d418_row10_col0\" class=\"data row10 col0\" >meta</td>\n",
       "      <td id=\"T_8d418_row10_col1\" class=\"data row10 col1\" >10.842042</td>\n",
       "      <td id=\"T_8d418_row10_col2\" class=\"data row10 col2\" >-3.814036</td>\n",
       "      <td id=\"T_8d418_row10_col3\" class=\"data row10 col3\" >0.022059</td>\n",
       "    </tr>\n",
       "    <tr>\n",
       "      <th id=\"T_8d418_level0_row11\" class=\"row_heading level0 row11\" >12048</th>\n",
       "      <td id=\"T_8d418_row11_col0\" class=\"data row11 col0\" >script</td>\n",
       "      <td id=\"T_8d418_row11_col1\" class=\"data row11 col1\" >10.716420</td>\n",
       "      <td id=\"T_8d418_row11_col2\" class=\"data row11 col2\" >-3.939658</td>\n",
       "      <td id=\"T_8d418_row11_col3\" class=\"data row11 col3\" >0.019455</td>\n",
       "    </tr>\n",
       "    <tr>\n",
       "      <th id=\"T_8d418_level0_row12\" class=\"row_heading level0 row12\" >43280</th>\n",
       "      <td id=\"T_8d418_row12_col0\" class=\"data row12 col0\" >·Prev</td>\n",
       "      <td id=\"T_8d418_row12_col1\" class=\"data row12 col1\" >10.277257</td>\n",
       "      <td id=\"T_8d418_row12_col2\" class=\"data row12 col2\" >-4.378821</td>\n",
       "      <td id=\"T_8d418_row12_col3\" class=\"data row12 col3\" >0.012540</td>\n",
       "    </tr>\n",
       "    <tr>\n",
       "      <th id=\"T_8d418_level0_row13\" class=\"row_heading level0 row13\" >39621</th>\n",
       "      <td id=\"T_8d418_row13_col0\" class=\"data row13 col0\" >iframe</td>\n",
       "      <td id=\"T_8d418_row13_col1\" class=\"data row13 col1\" >10.263437</td>\n",
       "      <td id=\"T_8d418_row13_col2\" class=\"data row13 col2\" >-4.392641</td>\n",
       "      <td id=\"T_8d418_row13_col3\" class=\"data row13 col3\" >0.012368</td>\n",
       "    </tr>\n",
       "    <tr>\n",
       "      <th id=\"T_8d418_level0_row14\" class=\"row_heading level0 row14\" >71</th>\n",
       "      <td id=\"T_8d418_row14_col0\" class=\"data row14 col0\" >h</td>\n",
       "      <td id=\"T_8d418_row14_col1\" class=\"data row14 col1\" >10.229389</td>\n",
       "      <td id=\"T_8d418_row14_col2\" class=\"data row14 col2\" >-4.426689</td>\n",
       "      <td id=\"T_8d418_row14_col3\" class=\"data row14 col3\" >0.011954</td>\n",
       "    </tr>\n",
       "  </tbody>\n",
       "</table>\n"
      ],
      "text/plain": [
       "<pandas.io.formats.style.Styler at 0x2c5f0e110>"
      ]
     },
     "metadata": {},
     "output_type": "display_data"
    }
   ],
   "source": [
    "nutils.show_df(nutils.create_vocab_df(logits[0, tokens_we_care_about[0]], make_probs=True).head(15))"
   ]
  },
  {
   "cell_type": "markdown",
   "metadata": {},
   "source": [
    "### Load SAEs"
   ]
  },
  {
   "cell_type": "code",
   "execution_count": null,
   "metadata": {},
   "outputs": [],
   "source": [
    "with open(\"/usr/local/lib/python3.10/dist-packages/sae_lens/pretrained_saes.yaml\", \"r\") as file:\n",
    "    pretrained_saes = yaml.safe_load(file)\n",
    "print(pretrained_saes.keys())\n",
    "\n",
    "\n",
    "RELEASE = \"gpt2-small-res-jb\"\n",
    "\n",
    "saes = {}\n",
    "for layer in range(model.cfg.n_layers):\n",
    "    saes[layer] = sae_lens.SAE.from_pretrained(\n",
    "        release=RELEASE,\n",
    "        sae_id=f\"blocks.{layer}.hook_resid_pre\",\n",
    "        device=\"cuda\",\n",
    "    )[0].to(torch.float32)"
   ]
  }
 ],
 "metadata": {
  "kernelspec": {
   "display_name": "interp",
   "language": "python",
   "name": "python3"
  },
  "language_info": {
   "codemirror_mode": {
    "name": "ipython",
    "version": 3
   },
   "file_extension": ".py",
   "mimetype": "text/x-python",
   "name": "python",
   "nbconvert_exporter": "python",
   "pygments_lexer": "ipython3",
   "version": "3.10.13"
  }
 },
 "nbformat": 4,
 "nbformat_minor": 2
}
